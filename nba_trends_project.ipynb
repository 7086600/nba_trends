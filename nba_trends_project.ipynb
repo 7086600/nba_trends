{
 "cells": [
  {
   "cell_type": "markdown",
   "id": "7b725bcf-75c4-41ff-9547-e5c085530c78",
   "metadata": {},
   "source": [
    "# NBA Trends"
   ]
  },
  {
   "cell_type": "markdown",
   "id": "2c2af863",
   "metadata": {},
   "source": [
    "In this project, we’ll analyze data from the NBA (National Basketball Association) and explore possible associations."
   ]
  },
  {
   "cell_type": "markdown",
   "id": "c5f5a69e",
   "metadata": {},
   "source": [
    "This data was originally sourced from 538’s Analysis of the Complete History Of The NBA and contains the original, unmodified data from [Basketball Reference](https://www.basketball-reference.com/) as well as several additional variables 538 added to perform their own analysis. Read more about data [here](https://github.com/fivethirtyeight/data/tree/master/nba-elo)."
   ]
  },
  {
   "cell_type": "markdown",
   "id": "cdc6024d",
   "metadata": {},
   "source": [
    "For this project we’ve limited the data to just 5 teams and 10 columns (plus one constructed column, point_diff, the difference between pts and opp_pts)."
   ]
  },
  {
   "cell_type": "code",
   "execution_count": 64,
   "id": "18c5d419",
   "metadata": {},
   "outputs": [],
   "source": [
    "# importing necessary libraries\n",
    "import pandas as pd\n",
    "import numpy as np\n",
    "import matplotlib.pyplot as plt"
   ]
  },
  {
   "cell_type": "code",
   "execution_count": 38,
   "id": "beb14a1b",
   "metadata": {},
   "outputs": [],
   "source": [
    "# setting options\n",
    "pd.set_option('display.max_columns', None)\n",
    "np.set_printoptions(suppress=True, precision = 2)"
   ]
  },
  {
   "cell_type": "code",
   "execution_count": 39,
   "id": "d6c34bd7",
   "metadata": {},
   "outputs": [],
   "source": [
    "# load nba games data\n",
    "nba = pd.read_csv('nba_games.csv', sep=',')"
   ]
  },
  {
   "cell_type": "code",
   "execution_count": 40,
   "id": "c1c994b0",
   "metadata": {},
   "outputs": [
    {
     "data": {
      "text/html": [
       "<div>\n",
       "<style scoped>\n",
       "    .dataframe tbody tr th:only-of-type {\n",
       "        vertical-align: middle;\n",
       "    }\n",
       "\n",
       "    .dataframe tbody tr th {\n",
       "        vertical-align: top;\n",
       "    }\n",
       "\n",
       "    .dataframe thead th {\n",
       "        text-align: right;\n",
       "    }\n",
       "</style>\n",
       "<table border=\"1\" class=\"dataframe\">\n",
       "  <thead>\n",
       "    <tr style=\"text-align: right;\">\n",
       "      <th></th>\n",
       "      <th>game_id</th>\n",
       "      <th>year_id</th>\n",
       "      <th>fran_id</th>\n",
       "      <th>opp_fran</th>\n",
       "      <th>game_location</th>\n",
       "      <th>is_playoffs</th>\n",
       "      <th>pts</th>\n",
       "      <th>opp_pts</th>\n",
       "      <th>game_result</th>\n",
       "      <th>forecast</th>\n",
       "      <th>point_diff</th>\n",
       "    </tr>\n",
       "  </thead>\n",
       "  <tbody>\n",
       "    <tr>\n",
       "      <th>0</th>\n",
       "      <td>194611010TRH</td>\n",
       "      <td>1947</td>\n",
       "      <td>Knicks</td>\n",
       "      <td>Huskies</td>\n",
       "      <td>A</td>\n",
       "      <td>0</td>\n",
       "      <td>68</td>\n",
       "      <td>66</td>\n",
       "      <td>W</td>\n",
       "      <td>0.359935</td>\n",
       "      <td>2</td>\n",
       "    </tr>\n",
       "    <tr>\n",
       "      <th>1</th>\n",
       "      <td>194611020CHS</td>\n",
       "      <td>1947</td>\n",
       "      <td>Knicks</td>\n",
       "      <td>Stags</td>\n",
       "      <td>A</td>\n",
       "      <td>0</td>\n",
       "      <td>47</td>\n",
       "      <td>63</td>\n",
       "      <td>L</td>\n",
       "      <td>0.368899</td>\n",
       "      <td>-16</td>\n",
       "    </tr>\n",
       "    <tr>\n",
       "      <th>2</th>\n",
       "      <td>194611020PRO</td>\n",
       "      <td>1947</td>\n",
       "      <td>Celtics</td>\n",
       "      <td>Steamrollers</td>\n",
       "      <td>A</td>\n",
       "      <td>0</td>\n",
       "      <td>53</td>\n",
       "      <td>59</td>\n",
       "      <td>L</td>\n",
       "      <td>0.359935</td>\n",
       "      <td>-6</td>\n",
       "    </tr>\n",
       "    <tr>\n",
       "      <th>3</th>\n",
       "      <td>194611050BOS</td>\n",
       "      <td>1947</td>\n",
       "      <td>Celtics</td>\n",
       "      <td>Stags</td>\n",
       "      <td>H</td>\n",
       "      <td>0</td>\n",
       "      <td>55</td>\n",
       "      <td>57</td>\n",
       "      <td>L</td>\n",
       "      <td>0.620204</td>\n",
       "      <td>-2</td>\n",
       "    </tr>\n",
       "    <tr>\n",
       "      <th>4</th>\n",
       "      <td>194611070STB</td>\n",
       "      <td>1947</td>\n",
       "      <td>Knicks</td>\n",
       "      <td>Bombers</td>\n",
       "      <td>A</td>\n",
       "      <td>0</td>\n",
       "      <td>68</td>\n",
       "      <td>63</td>\n",
       "      <td>W</td>\n",
       "      <td>0.339290</td>\n",
       "      <td>5</td>\n",
       "    </tr>\n",
       "    <tr>\n",
       "      <th>5</th>\n",
       "      <td>194611090DTF</td>\n",
       "      <td>1947</td>\n",
       "      <td>Celtics</td>\n",
       "      <td>Falcons</td>\n",
       "      <td>A</td>\n",
       "      <td>0</td>\n",
       "      <td>46</td>\n",
       "      <td>69</td>\n",
       "      <td>L</td>\n",
       "      <td>0.386818</td>\n",
       "      <td>-23</td>\n",
       "    </tr>\n",
       "    <tr>\n",
       "      <th>6</th>\n",
       "      <td>194611110NYK</td>\n",
       "      <td>1947</td>\n",
       "      <td>Knicks</td>\n",
       "      <td>Stags</td>\n",
       "      <td>H</td>\n",
       "      <td>0</td>\n",
       "      <td>68</td>\n",
       "      <td>78</td>\n",
       "      <td>L</td>\n",
       "      <td>0.629479</td>\n",
       "      <td>-10</td>\n",
       "    </tr>\n",
       "    <tr>\n",
       "      <th>7</th>\n",
       "      <td>194611130CHS</td>\n",
       "      <td>1947</td>\n",
       "      <td>Celtics</td>\n",
       "      <td>Stags</td>\n",
       "      <td>A</td>\n",
       "      <td>0</td>\n",
       "      <td>61</td>\n",
       "      <td>71</td>\n",
       "      <td>L</td>\n",
       "      <td>0.291740</td>\n",
       "      <td>-10</td>\n",
       "    </tr>\n",
       "    <tr>\n",
       "      <th>8</th>\n",
       "      <td>194611140STB</td>\n",
       "      <td>1947</td>\n",
       "      <td>Celtics</td>\n",
       "      <td>Bombers</td>\n",
       "      <td>A</td>\n",
       "      <td>0</td>\n",
       "      <td>62</td>\n",
       "      <td>64</td>\n",
       "      <td>L</td>\n",
       "      <td>0.313890</td>\n",
       "      <td>-2</td>\n",
       "    </tr>\n",
       "    <tr>\n",
       "      <th>9</th>\n",
       "      <td>194611160BOS</td>\n",
       "      <td>1947</td>\n",
       "      <td>Celtics</td>\n",
       "      <td>Huskies</td>\n",
       "      <td>H</td>\n",
       "      <td>0</td>\n",
       "      <td>53</td>\n",
       "      <td>49</td>\n",
       "      <td>W</td>\n",
       "      <td>0.602702</td>\n",
       "      <td>4</td>\n",
       "    </tr>\n",
       "  </tbody>\n",
       "</table>\n",
       "</div>"
      ],
      "text/plain": [
       "        game_id  year_id  fran_id      opp_fran game_location  is_playoffs  \\\n",
       "0  194611010TRH     1947   Knicks       Huskies             A            0   \n",
       "1  194611020CHS     1947   Knicks         Stags             A            0   \n",
       "2  194611020PRO     1947  Celtics  Steamrollers             A            0   \n",
       "3  194611050BOS     1947  Celtics         Stags             H            0   \n",
       "4  194611070STB     1947   Knicks       Bombers             A            0   \n",
       "5  194611090DTF     1947  Celtics       Falcons             A            0   \n",
       "6  194611110NYK     1947   Knicks         Stags             H            0   \n",
       "7  194611130CHS     1947  Celtics         Stags             A            0   \n",
       "8  194611140STB     1947  Celtics       Bombers             A            0   \n",
       "9  194611160BOS     1947  Celtics       Huskies             H            0   \n",
       "\n",
       "   pts  opp_pts game_result  forecast  point_diff  \n",
       "0   68       66           W  0.359935           2  \n",
       "1   47       63           L  0.368899         -16  \n",
       "2   53       59           L  0.359935          -6  \n",
       "3   55       57           L  0.620204          -2  \n",
       "4   68       63           W  0.339290           5  \n",
       "5   46       69           L  0.386818         -23  \n",
       "6   68       78           L  0.629479         -10  \n",
       "7   61       71           L  0.291740         -10  \n",
       "8   62       64           L  0.313890          -2  \n",
       "9   53       49           W  0.602702           4  "
      ]
     },
     "execution_count": 40,
     "metadata": {},
     "output_type": "execute_result"
    }
   ],
   "source": [
    "# inspecting data\n",
    "nba.head(10)"
   ]
  },
  {
   "cell_type": "code",
   "execution_count": 43,
   "id": "ccfd199f",
   "metadata": {},
   "outputs": [
    {
     "name": "stdout",
     "output_type": "stream",
     "text": [
      "(24359, 11)\n"
     ]
    },
    {
     "data": {
      "text/plain": [
       "Index(['game_id', 'year_id', 'fran_id', 'opp_fran', 'game_location',\n",
       "       'is_playoffs', 'pts', 'opp_pts', 'game_result', 'forecast',\n",
       "       'point_diff'],\n",
       "      dtype='object')"
      ]
     },
     "execution_count": 43,
     "metadata": {},
     "output_type": "execute_result"
    }
   ],
   "source": [
    "# which columns do we have?\n",
    "print(nba.shape)\n",
    "nba.columns"
   ]
  },
  {
   "cell_type": "code",
   "execution_count": 41,
   "id": "4d991b78",
   "metadata": {},
   "outputs": [
    {
     "name": "stdout",
     "output_type": "stream",
     "text": [
      "<class 'pandas.core.frame.DataFrame'>\n",
      "RangeIndex: 24359 entries, 0 to 24358\n",
      "Data columns (total 11 columns):\n",
      " #   Column         Non-Null Count  Dtype  \n",
      "---  ------         --------------  -----  \n",
      " 0   game_id        24359 non-null  object \n",
      " 1   year_id        24359 non-null  int64  \n",
      " 2   fran_id        24359 non-null  object \n",
      " 3   opp_fran       24359 non-null  object \n",
      " 4   game_location  24359 non-null  object \n",
      " 5   is_playoffs    24359 non-null  int64  \n",
      " 6   pts            24359 non-null  int64  \n",
      " 7   opp_pts        24359 non-null  int64  \n",
      " 8   game_result    24359 non-null  object \n",
      " 9   forecast       24359 non-null  float64\n",
      " 10  point_diff     24359 non-null  int64  \n",
      "dtypes: float64(1), int64(5), object(5)\n",
      "memory usage: 2.0+ MB\n"
     ]
    }
   ],
   "source": [
    "# inspecting the data types and count missing values\n",
    "nba.info()"
   ]
  },
  {
   "cell_type": "markdown",
   "id": "0c883b54",
   "metadata": {},
   "source": [
    "## Analyzing relationships between Quant and Categorical"
   ]
  },
  {
   "cell_type": "code",
   "execution_count": null,
   "id": "665ea668",
   "metadata": {},
   "outputs": [],
   "source": [
    "# Subset Data to 2010 Season, 2014 Season\n",
    "nba_2010 = nba[nba['year_id'] == 2010]\n",
    "nba_2014 = nba[nba['year_id'] == 2014]"
   ]
  },
  {
   "cell_type": "markdown",
   "id": "dd4fcc4a",
   "metadata": {},
   "source": [
    "#### Season 2010"
   ]
  },
  {
   "cell_type": "code",
   "execution_count": 51,
   "id": "300d2b42",
   "metadata": {},
   "outputs": [],
   "source": [
    "# create two series that represent the points each team has scored in their games (Knicks and Nets)\n",
    "knicks_pts_10 = nba_2010.pts[nba_2010['fran_id'] == \"Knicks\"]\n",
    "nets_pts_10 = nba_2010.pts[nba_2010['fran_id'] == \"Nets\"]"
   ]
  },
  {
   "cell_type": "code",
   "execution_count": 79,
   "id": "236bab32",
   "metadata": {},
   "outputs": [
    {
     "name": "stdout",
     "output_type": "stream",
     "text": [
      "Knicks average points in 2010: 102.11\n",
      "Nets average points in 2010: 92.38\n"
     ]
    }
   ],
   "source": [
    "# knicks average points\n",
    "knicks_pts_10_mean= np.round(knicks_pts_10.mean(), 2)\n",
    "# nets average points\n",
    "nets_pts_10_mean = np.round(nets_pts_10.mean(), 2)\n",
    "\n",
    "print(f\"Knicks average points in 2010: {knicks_pts_10_mean}\")\n",
    "print(f\"Nets average points in 2010: {nets_pts_10_mean}\")"
   ]
  },
  {
   "cell_type": "code",
   "execution_count": null,
   "id": "269c79f6",
   "metadata": {},
   "outputs": [
    {
     "name": "stdout",
     "output_type": "stream",
     "text": [
      "The difference between the Knicks and Nets teams average points in 2019 season is: 9.73 points\n"
     ]
    }
   ],
   "source": [
    "# the difference between the two teams’ average points\n",
    "diff_means_2010 = np.round(knicks_pts_10_mean - nets_pts_10_mean, 2)\n",
    "# print the results\n",
    "print(f\"The difference between the Knicks and Nets teams average points in 2010 season is: {diff_means_2010} points\")"
   ]
  },
  {
   "cell_type": "code",
   "execution_count": 78,
   "id": "6e9eeb8c",
   "metadata": {},
   "outputs": [
    {
     "data": {
      "image/png": "[encoded data removed]",
      "text/plain": [
       "<Figure size 640x480 with 1 Axes>"
      ]
     },
     "metadata": {},
     "output_type": "display_data"
    }
   ],
   "source": [
    "# Create a set of overlapping histograms that can be used to compare the points scored for the Knicks compared to the Nets\n",
    "# knicks points histogram\n",
    "plt.hist(knicks_pts_10, color='green', label='Knicks', density=False, alpha=0.9)\n",
    "# nets points histogram\n",
    "plt.hist(nets_pts_10, color='pink', label='Nets', density=False, alpha=0.7)\n",
    "plt.legend()\n",
    "plt.title('Knicks vs Nets Points Distribution in 2010 Season')\n",
    "plt.show()"
   ]
  },
  {
   "cell_type": "markdown",
   "id": "6baca991",
   "metadata": {},
   "source": [
    "- The Knicks generally scored more points than the Nets.\n",
    "- The Nets were less productive, often scoring around 90 points.\n",
    "- The distributions differ in shape and center, which indicates a difference in playing styles or scoring performance."
   ]
  },
  {
   "cell_type": "markdown",
   "id": "49055d93",
   "metadata": {},
   "source": [
    "### Compare the 2010 games to 2014"
   ]
  },
  {
   "cell_type": "code",
   "execution_count": 82,
   "id": "a901d4ef",
   "metadata": {},
   "outputs": [],
   "source": [
    "# create two series that represent the points each team has scored in their games (Knicks and Nets)\n",
    "knicks_pts_14 = nba_2014.pts[nba_2014['fran_id'] == \"Knicks\"]\n",
    "nets_pts_14 = nba_2014.pts[nba_2014['fran_id'] == \"Nets\"]"
   ]
  },
  {
   "cell_type": "code",
   "execution_count": 83,
   "id": "f8fec076",
   "metadata": {},
   "outputs": [
    {
     "name": "stdout",
     "output_type": "stream",
     "text": [
      "Knicks average points in 2014: 98.59\n",
      "Nets average points in 2014: 98.14\n"
     ]
    }
   ],
   "source": [
    "# knicks average points\n",
    "knicks_pts_14_mean= np.round(knicks_pts_14.mean(), 2)\n",
    "# nets average points\n",
    "nets_pts_14_mean = np.round(nets_pts_14.mean(), 2)\n",
    "\n",
    "print(f\"Knicks average points in 2014: {knicks_pts_14_mean}\")\n",
    "print(f\"Nets average points in 2014: {nets_pts_14_mean}\")"
   ]
  },
  {
   "cell_type": "code",
   "execution_count": 84,
   "id": "e82be21d",
   "metadata": {},
   "outputs": [
    {
     "name": "stdout",
     "output_type": "stream",
     "text": [
      "The difference between the Knicks and Nets teams average points in 2014 season is: 0.45 points\n"
     ]
    }
   ],
   "source": [
    "# the difference between the two teams’ average points\n",
    "diff_means_2014 = np.round(knicks_pts_14_mean - nets_pts_14_mean, 2)\n",
    "# print the results\n",
    "print(f\"The difference between the Knicks and Nets teams average points in 2014 season is: {diff_means_2014} points\")"
   ]
  },
  {
   "cell_type": "code",
   "execution_count": 85,
   "id": "d23a4dae",
   "metadata": {},
   "outputs": [
    {
     "data": {
      "image/png": "[encoded data removed]",
      "text/plain": [
       "<Figure size 640x480 with 1 Axes>"
      ]
     },
     "metadata": {},
     "output_type": "display_data"
    }
   ],
   "source": [
    "# Create a set of overlapping histograms that can be used to compare the points scored for the Knicks compared to the Nets\n",
    "# knicks points histogram\n",
    "plt.hist(knicks_pts_14, color='green', label='Knicks', density=False, alpha=0.9)\n",
    "# nets points histogram\n",
    "plt.hist(nets_pts_14, color='pink', label='Nets', density=False, alpha=0.7)\n",
    "plt.legend()\n",
    "plt.title('Knicks vs Nets Points Distribution in 2014 Season')\n",
    "plt.show()"
   ]
  },
  {
   "cell_type": "markdown",
   "id": "8aef272b",
   "metadata": {},
   "source": [
    "- Nets have changed to 2014 season and played much more games scoring 105-109 points\n",
    "- The Knicks, on the contrary, began to play noticeably worse\n",
    "- It seems the Nets were able to change their style of play and tactics to improve their results"
   ]
  }
 ],
 "metadata": {
  "kernelspec": {
   "display_name": "base",
   "language": "python",
   "name": "python3"
  },
  "language_info": {
   "codemirror_mode": {
    "name": "ipython",
    "version": 3
   },
   "file_extension": ".py",
   "mimetype": "text/x-python",
   "name": "python",
   "nbconvert_exporter": "python",
   "pygments_lexer": "ipython3",
   "version": "3.11.11"
  }
 },
 "nbformat": 4,
 "nbformat_minor": 5
}
