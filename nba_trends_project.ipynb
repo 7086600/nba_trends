{
 "cells": [
  {
   "cell_type": "markdown",
   "id": "7b725bcf-75c4-41ff-9547-e5c085530c78",
   "metadata": {},
   "source": [
    "# NBA Trends\n"
   ]
  },
  {
   "cell_type": "markdown",
   "id": "2c2af863",
   "metadata": {},
   "source": [
    "In this project, we’ll analyze data from the NBA (National Basketball Association) and explore possible associations."
   ]
  },
  {
   "cell_type": "markdown",
   "id": "c5f5a69e",
   "metadata": {},
   "source": [
    "This data was originally sourced from 538’s Analysis of the Complete History Of The NBA and contains the original, unmodified data from [Basketball Reference](https://www.basketball-reference.com/) as well as several additional variables 538 added to perform their own analysis. Read more about data [here](https://github.com/fivethirtyeight/data/tree/master/nba-elo)."
   ]
  },
  {
   "cell_type": "markdown",
   "id": "cdc6024d",
   "metadata": {},
   "source": [
    "For this project we’ve limited the data to just 5 teams and 10 columns (plus one constructed column, point_diff, the difference between pts and opp_pts)."
   ]
  }
 ],
 "metadata": {
  "kernelspec": {
   "display_name": "base",
   "language": "python",
   "name": "python3"
  },
  "language_info": {
   "codemirror_mode": {
    "name": "ipython",
    "version": 3
   },
   "file_extension": ".py",
   "mimetype": "text/x-python",
   "name": "python",
   "nbconvert_exporter": "python",
   "pygments_lexer": "ipython3",
   "version": "3.11.11"
  }
 },
 "nbformat": 4,
 "nbformat_minor": 5
}
